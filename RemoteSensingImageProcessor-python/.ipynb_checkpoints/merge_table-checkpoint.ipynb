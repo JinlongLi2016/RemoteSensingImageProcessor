{
 "cells": [
  {
   "cell_type": "markdown",
   "metadata": {},
   "source": [
    "| 指标||平均梯度|||熵|||相关系数||\n",
    "| ------------- |:-------:|:-------:|:-------:|:-------:|:----------:|:--------:|:------:|:------:|----:|\n",
    "|  通道      |R|G|B|R|G|B|R|G|B\n",
    "| 原多光谱       | 10.894    |   8.710 |  5.945  | | ||\n",
    "| 加权融合       | 9.465    | 8.380  | 10.494    |  7.146 | 6.905 |  7.012 | 0.715| 0.685| 0.722\n",
    "| 比值变换       | 4.541    | 4.213  | 5.783   | 5.693  | 5.319 | 6.229 | 0.654 | 0.416 | 0.481\n",
    "| 乘积变换       | 10.846    |  9.513 | 11.318   | 7.309  | 7.007 | 7.472 |0.833|0.725|0.817"
   ]
  },
  {
   "cell_type": "code",
   "execution_count": null,
   "metadata": {
    "collapsed": true
   },
   "outputs": [],
   "source": []
  },
  {
   "cell_type": "code",
   "execution_count": null,
   "metadata": {
    "collapsed": true
   },
   "outputs": [],
   "source": []
  }
 ],
 "metadata": {
  "kernelspec": {
   "display_name": "Python 3",
   "language": "python",
   "name": "python3"
  },
  "language_info": {
   "codemirror_mode": {
    "name": "ipython",
    "version": 3
   },
   "file_extension": ".py",
   "mimetype": "text/x-python",
   "name": "python",
   "nbconvert_exporter": "python",
   "pygments_lexer": "ipython3",
   "version": "3.6.5"
  }
 },
 "nbformat": 4,
 "nbformat_minor": 2
}
